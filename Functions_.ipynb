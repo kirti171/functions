{
  "nbformat": 4,
  "nbformat_minor": 0,
  "metadata": {
    "colab": {
      "provenance": []
    },
    "kernelspec": {
      "name": "python3",
      "display_name": "Python 3"
    },
    "language_info": {
      "name": "python"
    }
  },
  "cells": [
    {
      "cell_type": "markdown",
      "source": [
        "## Theory questions"
      ],
      "metadata": {
        "id": "tgX4C8BRrqMw"
      }
    },
    {
      "cell_type": "code",
      "source": [
        "# 1. What is the difference between a function and a method in Python?\n",
        "# Functions:\n",
        "# A function is an independent block of code that is not associated with any object.\n",
        "# It is defined using the def keyword and can be called directly.\n",
        "# Functions can be used anywhere in a program.\n",
        "# example;\n",
        "def greet(name):\n",
        "    return f\"Hello, {name}!\"\n",
        "\n",
        "print(greet(\"Kirti\"))\n",
        "# Method:\n",
        "# A method is a function that is associated with an object and is called on that object.\n",
        "# It is defined within a class and operates on instances of that class.\n",
        "# Methods take self (or cls for class methods) as their first parameter to access instance attributes.\n",
        "# example:\n",
        "class Person:\n",
        "    def __init__(self, name):\n",
        "        self.name = name\n",
        "\n",
        "    def greet(self):\n",
        "        return f\"Hello, {self.name}!\"\n",
        "\n",
        "p = Person(\"Kirti\")\n",
        "print(p.greet())\n"
      ],
      "metadata": {
        "colab": {
          "base_uri": "https://localhost:8080/"
        },
        "id": "ImdvNi0rsDp6",
        "outputId": "20a5e611-6621-4505-f970-c8ff0501a2bb"
      },
      "execution_count": null,
      "outputs": [
        {
          "output_type": "stream",
          "name": "stdout",
          "text": [
            "Hello, Kirti!\n",
            "Hello, Kirti!\n"
          ]
        }
      ]
    },
    {
      "cell_type": "code",
      "source": [
        "# 2.  Explain the concept of function arguments and parameters in Python.\n",
        "# Parameters:\n",
        "#Parameters are variables listed inside the parentheses in a function definition.\n",
        "#They act as placeholders for values that the function expects when called.\n",
        "# Arguments:\n",
        "#Arguments are actual values or variables passed to a function when calling it.\n",
        "#These values replace the parameters.\n",
        "# For example:\n",
        "def greet(name):\n",
        "    print(f\"Hello, {name}!\")\n",
        "\n",
        "greet(\"Kirti\")\n"
      ],
      "metadata": {
        "colab": {
          "base_uri": "https://localhost:8080/"
        },
        "id": "tsXC2nxds7pm",
        "outputId": "e2c602f8-bb14-43d7-adfb-fc6c6a0f317d"
      },
      "execution_count": null,
      "outputs": [
        {
          "output_type": "stream",
          "name": "stdout",
          "text": [
            "Hello, Kirti!\n"
          ]
        }
      ]
    },
    {
      "cell_type": "code",
      "source": [
        "# 3.  What are the different ways to define and call a function in Python?\n",
        "# In python, there are different ways to define and call a function.Some of the ways are as follows:\n",
        "# -> Simple Function\n",
        "# A function is defined using def, and parameters are used to accept arguments.\n",
        "# for example:\n",
        "\n",
        "def add(a, b):\n",
        "    return a + b\n",
        "result = add(4,6)\n",
        "print(result)\n",
        "\n",
        "# -> Function with Default Arguments\n",
        "# You can assign default values to parameters.\n",
        "# for example:\n",
        "\n",
        "def greet(name=\"Guest\"):\n",
        "    print(f\"Hello, {name}!\")\n",
        "greet()\n",
        "\n",
        "# ->  Function with Keyword Arguments\n",
        "# Keyword arguments allow specifying parameters by name.\n",
        "# for example:\n",
        "\n",
        "def introduce(name, age):\n",
        "    print(f\"My name is {name} and I am {age} years old.\")\n",
        "introduce(age=18, name=\"Kirti\")\n",
        "\n",
        "# -> Function with Variable-Length Arguments (*args)\n",
        "# Use *args to accept multiple positional arguments.\n",
        "# for example:\n",
        "\n",
        "def add_numbers(*args):\n",
        "    return sum(args)\n",
        "print(add_numbers(1, 2, 3, 4, 5))\n",
        "\n",
        "# -> Function with Keyword Variable-Length Arguments (**kwargs)\n",
        "# Use **kwargs to accept multiple keyword arguments.\n",
        "# for example:\n",
        "\n",
        "def print_details(**kwargs):\n",
        "    for key, value in kwargs.items():\n",
        "        print(f\"{key}: {value}\")\n",
        "print_details(name=\"Kirti\", age=18, subject=\"Math\")\n",
        "\n",
        "# -> Lambda Function\n",
        "#  lambda function is a small, one-line function.\n",
        "# for example:\n",
        "\n",
        "square = lambda x: x ** 2\n",
        "print(square(5))\n",
        "\n",
        "# ->  Function as an Argument\n",
        "# A function can be passed as an argument to another function.\n",
        "# for example:\n",
        "\n",
        "def double(x):\n",
        "    return x * 2\n",
        "\n",
        "def apply_function(func, value):\n",
        "    return func(value)\n",
        "print(apply_function(double, 5))\n",
        "\n",
        "# -> Recursive Function\n",
        "# A function that calls itself.\n",
        "# for example:\n",
        "\n",
        "def factorial(n):\n",
        "    if n == 1:\n",
        "        return 1\n",
        "    return n * factorial(n - 1)\n",
        "print(factorial(5))\n"
      ],
      "metadata": {
        "colab": {
          "base_uri": "https://localhost:8080/"
        },
        "id": "CdWMxj2Xt4sO",
        "outputId": "55ad5ec7-ac98-49b4-e922-606adf15763f"
      },
      "execution_count": null,
      "outputs": [
        {
          "output_type": "stream",
          "name": "stdout",
          "text": [
            "10\n",
            "Hello, Guest!\n",
            "My name is Kirti and I am 18 years old.\n",
            "15\n",
            "name: Kirti\n",
            "age: 18\n",
            "subject: Math\n",
            "25\n",
            "10\n",
            "120\n"
          ]
        }
      ]
    },
    {
      "cell_type": "code",
      "source": [
        "# 4. What is the purpose of the `return` statement in a Python function?\n",
        "# The return statement is used  in a python function to send a value back to the caller.\n",
        "# It terminates the function and passes the result to the place where the function was called.\n",
        "# for example:\n",
        "def square(num):\n",
        "    return num ** 2  # Returns the square of the number\n",
        "\n",
        "result = square(4)\n",
        "print(result)  # Output: 16\n",
        "\n"
      ],
      "metadata": {
        "colab": {
          "base_uri": "https://localhost:8080/"
        },
        "id": "i4oAxNS2yXX7",
        "outputId": "574f6c85-9f76-4057-c8aa-6c6b614132b6"
      },
      "execution_count": null,
      "outputs": [
        {
          "output_type": "stream",
          "name": "stdout",
          "text": [
            "16\n"
          ]
        }
      ]
    },
    {
      "cell_type": "code",
      "source": [
        "# 5. What are iterators in Python and how do they differ from iterables?\n",
        "# ITERATORS:\n",
        "# An iterator is an object that produces elements one at a time using __next__().\n",
        "# It is generated from an iterable using iter().\n",
        "# It has __iter__() and __next__() methods.\n",
        "# It remembers its state, so it doesn't restart from the beginning.\n",
        "# for example:\n",
        "\n",
        "def count_up(max_value):\n",
        "    num = 1\n",
        "    while num <= max_value:\n",
        "        yield num\n",
        "        num += 1\n",
        "\n",
        "counter = count_up(5)\n",
        "print(next(counter))\n",
        "print(next(counter))\n",
        "\n",
        "# ITERABLES:\n",
        "# An iterable is any Python object that can be looped over (like list, tuple, set, dict, str).\n",
        "# It contains multiple elements.\n",
        "# It has the __iter__() method, which returns an iterator.\n",
        "# for example:\n",
        "numbers = [1, 2, 3, 4]\n",
        "\n",
        "for num in numbers:\n",
        "    print(num)\n"
      ],
      "metadata": {
        "colab": {
          "base_uri": "https://localhost:8080/"
        },
        "id": "HOfDRk3KzFf2",
        "outputId": "5deb6112-0c6c-4cfc-f4fa-407255b4f804"
      },
      "execution_count": null,
      "outputs": [
        {
          "output_type": "stream",
          "name": "stdout",
          "text": [
            "1\n",
            "2\n",
            "1\n",
            "2\n",
            "3\n",
            "4\n"
          ]
        }
      ]
    },
    {
      "cell_type": "code",
      "source": [
        "# 6. Explain the concept of generators in Python and how they are defined.\n",
        "# A generator is a special type of iterator that allows us to iterate over data lazily (on demand).\n",
        "# It is more memory-efficient than regular iterators or loops.\n",
        "# Generators are defined using functions with the yield keyword instead of return.\n",
        "# for example:\n",
        "def even_numbers(n):\n",
        "    num = 0\n",
        "    while num <= n:\n",
        "        yield num\n",
        "        num += 2\n",
        "\n",
        "evens = even_numbers(6)\n",
        "print(next(evens))\n",
        "print(next(evens))\n",
        "print(next(evens))\n",
        "print(next(evens))\n"
      ],
      "metadata": {
        "colab": {
          "base_uri": "https://localhost:8080/"
        },
        "id": "sCOlZRoA0h3D",
        "outputId": "83bb0b9e-d509-416b-9eac-b060a25cd240"
      },
      "execution_count": null,
      "outputs": [
        {
          "output_type": "stream",
          "name": "stdout",
          "text": [
            "0\n",
            "2\n",
            "4\n",
            "6\n"
          ]
        }
      ]
    },
    {
      "cell_type": "code",
      "source": [
        "# 7. What are the advantages of using generators over regular functions?\n",
        "# Generators provide several benefits over regular functions, especially when working with large data sets or continuous data streams.\n",
        "\n",
        "# -> Memory efficiency:\n",
        "# Generators produce values on demand instead of storing them in memory.\n",
        "# Ideal for handling large datasets or infinite sequences.\n",
        "\n",
        "# -> Faster Execution (Lazy Evaluation):\n",
        "# Generators don’t compute all values at once—they generate values on demand.\n",
        "# This improves performance, especially in large computations.\n",
        "\n",
        "# -> Can Handle Infinite Sequences:\n",
        "# Lists have a fixed size, while generators can run indefinitely.\n",
        "\n",
        "# Example:\n",
        "def infinite_numbers():\n",
        "    num = 1\n",
        "    while True:\n",
        "        yield num\n",
        "        num += 1\n",
        "\n",
        "gen = infinite_numbers()\n",
        "print(next(gen))\n",
        "print(next(gen))\n",
        "\n"
      ],
      "metadata": {
        "colab": {
          "base_uri": "https://localhost:8080/"
        },
        "id": "vHHwH8uC1KA3",
        "outputId": "1c7a9a91-cb33-42ee-eb1c-109b9efdf146"
      },
      "execution_count": null,
      "outputs": [
        {
          "output_type": "stream",
          "name": "stdout",
          "text": [
            "1\n",
            "2\n"
          ]
        }
      ]
    },
    {
      "cell_type": "code",
      "source": [
        "# 8. What is a lambda function in Python and when is it typically used?\n",
        "# A lambda function in Python is an anonymous (nameless) function that is defined using the lambda keyword.\n",
        "# It is a short, inline function that can take multiple arguments but only contains a single expression.\n",
        "# for example:\n",
        "\n",
        "square = lambda x: x * x\n",
        "print(square(5))  # Output: 25\n"
      ],
      "metadata": {
        "colab": {
          "base_uri": "https://localhost:8080/"
        },
        "id": "mQ37zwfJ2WIS",
        "outputId": "8748ffe6-8f1e-4f63-978c-2e2b90e5bc35"
      },
      "execution_count": null,
      "outputs": [
        {
          "output_type": "stream",
          "name": "stdout",
          "text": [
            "25\n"
          ]
        }
      ]
    },
    {
      "cell_type": "code",
      "source": [
        "# 9. Explain the purpose and usage of the `map()` function in Python.\n",
        "# The map() function applies a given function to all elements of an iterable (like a list, tuple, or set) and returns a map object (which is an iterator).\n",
        "# syntax: map(function, iterable)\n",
        "\n",
        "# for example:\n",
        "\n",
        "numbers = [\"1\", \"2\", \"3\", \"4\"]\n",
        "converted = map(int, numbers)\n",
        "print(list(converted))\n"
      ],
      "metadata": {
        "colab": {
          "base_uri": "https://localhost:8080/"
        },
        "id": "TpvlJB7n2t0v",
        "outputId": "a86419f8-29a4-4259-8238-04663265ec29"
      },
      "execution_count": null,
      "outputs": [
        {
          "output_type": "stream",
          "name": "stdout",
          "text": [
            "[1, 2, 3, 4]\n"
          ]
        }
      ]
    },
    {
      "cell_type": "code",
      "source": [
        "# 10. What is the difference between `map()`, `reduce()`, and `filter()` functions in Python?\n",
        "# map() function:\n",
        "# Purpose: Applies a function to each element of an iterable and returns an iterator.\n",
        "# Best Used For: Transforming data (e.g., converting types, modifying values).\n",
        "# for exapmle:\n",
        "\n",
        "numbers = [1, 2, 3, 4, 5]\n",
        "squared = map(lambda x: x ** 2, numbers)\n",
        "print(list(squared))\n",
        "\n",
        "# filter() function:\n",
        "# Filters elements from an iterable based on a condition (returns only True values).\n",
        "# Best Used For: Selecting elements that meet a condition\n",
        "# for example:\n",
        "\n",
        "numbers = [1, 2, 3, 4, 5, 6]\n",
        "evens = filter(lambda x: x % 2 == 0, numbers)\n",
        "print(list(evens))\n",
        "\n",
        "# reduce() Function (from functools module)\n",
        "# Purpose: Reduces an iterable to a single cumulative value using a function.\n",
        "# Best Used For: Aggregating values (e.g., sum, product, finding max/min).\n",
        "# for example:\n",
        "\n",
        "from functools import reduce\n",
        "\n",
        "numbers = [1, 2, 3, 4]\n",
        "product = reduce(lambda x, y: x * y, numbers)\n",
        "print(product)\n"
      ],
      "metadata": {
        "colab": {
          "base_uri": "https://localhost:8080/"
        },
        "id": "t4SUFKRT3Z4j",
        "outputId": "afb797b0-75b0-4dea-cc79-b3ddf84d389d"
      },
      "execution_count": null,
      "outputs": [
        {
          "output_type": "stream",
          "name": "stdout",
          "text": [
            "[1, 4, 9, 16, 25]\n",
            "[2, 4, 6]\n",
            "24\n"
          ]
        }
      ]
    },
    {
      "cell_type": "code",
      "source": [
        "# 11.  Using pen & Paper write the internal mechanism for sum operation using  reduce function on this given\n",
        "# list:[47,11,42,13];\n",
        "\n"
      ],
      "metadata": {
        "id": "p8WQbQ9C3Zao"
      },
      "execution_count": null,
      "outputs": []
    },
    {
      "cell_type": "markdown",
      "source": [
        "## Practical Questions:"
      ],
      "metadata": {
        "id": "Qbhu3Od-KS4d"
      }
    },
    {
      "cell_type": "code",
      "source": [
        "# 1.  Write a Python function that takes a list of numbers as input and returns the sum of all even numbers in the list.\n",
        "def sum_of_evens(numbers):\n",
        "    return sum(num for num in numbers if num % 2 == 0)\n",
        "\n",
        "lst = [47, 11, 42, 13, 8, 20]\n",
        "result = sum_of_evens(lst)\n",
        "print(\"Sum of even numbers:\", result)\n"
      ],
      "metadata": {
        "colab": {
          "base_uri": "https://localhost:8080/"
        },
        "id": "j_Fbm36PKVz-",
        "outputId": "34439017-bc88-40c6-bf2f-ba08b3f5cf34"
      },
      "execution_count": 1,
      "outputs": [
        {
          "output_type": "stream",
          "name": "stdout",
          "text": [
            "Sum of even numbers: 70\n"
          ]
        }
      ]
    },
    {
      "cell_type": "code",
      "source": [
        "# 2. Create a Python function that accepts a string and returns the reverse of that string.\n",
        "def reverse_string(s):\n",
        "    return s[::-1]\n",
        "\n",
        "text = \"Hello, World!\"\n",
        "reversed_text = reverse_string(text)\n",
        "print(\"Reversed String:\", reversed_text)\n"
      ],
      "metadata": {
        "colab": {
          "base_uri": "https://localhost:8080/"
        },
        "id": "x02BSX9kLLUl",
        "outputId": "a14e3949-df5b-413a-dc18-4248d255ec07"
      },
      "execution_count": 2,
      "outputs": [
        {
          "output_type": "stream",
          "name": "stdout",
          "text": [
            "Reversed String: !dlroW ,olleH\n"
          ]
        }
      ]
    },
    {
      "cell_type": "code",
      "source": [
        "# 3.Implement a Python function that takes a list of integers and returns a new list containing the squares of each number.\n",
        "def square_numbers(numbers):\n",
        "    return [num ** 2 for num in numbers]\n",
        "lst = [1, 2, 3, 4, 5]\n",
        "squared_lst = square_numbers(lst)\n",
        "print(\"Squared List:\", squared_lst)\n"
      ],
      "metadata": {
        "colab": {
          "base_uri": "https://localhost:8080/"
        },
        "id": "tbsw5hijLZuc",
        "outputId": "b2252186-1ac8-4ba0-b844-c004764f62e4"
      },
      "execution_count": 3,
      "outputs": [
        {
          "output_type": "stream",
          "name": "stdout",
          "text": [
            "Squared List: [1, 4, 9, 16, 25]\n"
          ]
        }
      ]
    },
    {
      "cell_type": "code",
      "source": [
        "# 4. Write a Python function that checks if a given number is prime or not from 1 to 200.\n",
        "def is_prime(n):\n",
        "    \"\"\"Check if a number is prime.\"\"\"\n",
        "    if n <= 1:\n",
        "        return False\n",
        "    for i in range(2, int(n**0.5) + 1):\n",
        "        if n % i == 0:\n",
        "            return False\n",
        "    return True\n",
        "\n",
        "def check_primes_in_range(start, end):\n",
        "    \"\"\"Check and print prime numbers in a given range.\"\"\"\n",
        "    for number in range(start, end + 1):\n",
        "        if is_prime(number):\n",
        "            print(f\"{number} is a prime number.\")\n",
        "        else:\n",
        "            print(f\"{number} is not a prime number.\")\n",
        "\n",
        "\n",
        "if __name__ == \"__main__\":\n",
        "    check_primes_in_range(1, 200)"
      ],
      "metadata": {
        "colab": {
          "base_uri": "https://localhost:8080/"
        },
        "id": "FDWfpSRzLsZv",
        "outputId": "658f8a0b-f3ed-4c35-d06d-bcfe9336452d"
      },
      "execution_count": 18,
      "outputs": [
        {
          "output_type": "stream",
          "name": "stdout",
          "text": [
            "1 is not a prime number.\n",
            "2 is a prime number.\n",
            "3 is a prime number.\n",
            "4 is not a prime number.\n",
            "5 is a prime number.\n",
            "6 is not a prime number.\n",
            "7 is a prime number.\n",
            "8 is not a prime number.\n",
            "9 is not a prime number.\n",
            "10 is not a prime number.\n",
            "11 is a prime number.\n",
            "12 is not a prime number.\n",
            "13 is a prime number.\n",
            "14 is not a prime number.\n",
            "15 is not a prime number.\n",
            "16 is not a prime number.\n",
            "17 is a prime number.\n",
            "18 is not a prime number.\n",
            "19 is a prime number.\n",
            "20 is not a prime number.\n",
            "21 is not a prime number.\n",
            "22 is not a prime number.\n",
            "23 is a prime number.\n",
            "24 is not a prime number.\n",
            "25 is not a prime number.\n",
            "26 is not a prime number.\n",
            "27 is not a prime number.\n",
            "28 is not a prime number.\n",
            "29 is a prime number.\n",
            "30 is not a prime number.\n",
            "31 is a prime number.\n",
            "32 is not a prime number.\n",
            "33 is not a prime number.\n",
            "34 is not a prime number.\n",
            "35 is not a prime number.\n",
            "36 is not a prime number.\n",
            "37 is a prime number.\n",
            "38 is not a prime number.\n",
            "39 is not a prime number.\n",
            "40 is not a prime number.\n",
            "41 is a prime number.\n",
            "42 is not a prime number.\n",
            "43 is a prime number.\n",
            "44 is not a prime number.\n",
            "45 is not a prime number.\n",
            "46 is not a prime number.\n",
            "47 is a prime number.\n",
            "48 is not a prime number.\n",
            "49 is not a prime number.\n",
            "50 is not a prime number.\n",
            "51 is not a prime number.\n",
            "52 is not a prime number.\n",
            "53 is a prime number.\n",
            "54 is not a prime number.\n",
            "55 is not a prime number.\n",
            "56 is not a prime number.\n",
            "57 is not a prime number.\n",
            "58 is not a prime number.\n",
            "59 is a prime number.\n",
            "60 is not a prime number.\n",
            "61 is a prime number.\n",
            "62 is not a prime number.\n",
            "63 is not a prime number.\n",
            "64 is not a prime number.\n",
            "65 is not a prime number.\n",
            "66 is not a prime number.\n",
            "67 is a prime number.\n",
            "68 is not a prime number.\n",
            "69 is not a prime number.\n",
            "70 is not a prime number.\n",
            "71 is a prime number.\n",
            "72 is not a prime number.\n",
            "73 is a prime number.\n",
            "74 is not a prime number.\n",
            "75 is not a prime number.\n",
            "76 is not a prime number.\n",
            "77 is not a prime number.\n",
            "78 is not a prime number.\n",
            "79 is a prime number.\n",
            "80 is not a prime number.\n",
            "81 is not a prime number.\n",
            "82 is not a prime number.\n",
            "83 is a prime number.\n",
            "84 is not a prime number.\n",
            "85 is not a prime number.\n",
            "86 is not a prime number.\n",
            "87 is not a prime number.\n",
            "88 is not a prime number.\n",
            "89 is a prime number.\n",
            "90 is not a prime number.\n",
            "91 is not a prime number.\n",
            "92 is not a prime number.\n",
            "93 is not a prime number.\n",
            "94 is not a prime number.\n",
            "95 is not a prime number.\n",
            "96 is not a prime number.\n",
            "97 is a prime number.\n",
            "98 is not a prime number.\n",
            "99 is not a prime number.\n",
            "100 is not a prime number.\n",
            "101 is a prime number.\n",
            "102 is not a prime number.\n",
            "103 is a prime number.\n",
            "104 is not a prime number.\n",
            "105 is not a prime number.\n",
            "106 is not a prime number.\n",
            "107 is a prime number.\n",
            "108 is not a prime number.\n",
            "109 is a prime number.\n",
            "110 is not a prime number.\n",
            "111 is not a prime number.\n",
            "112 is not a prime number.\n",
            "113 is a prime number.\n",
            "114 is not a prime number.\n",
            "115 is not a prime number.\n",
            "116 is not a prime number.\n",
            "117 is not a prime number.\n",
            "118 is not a prime number.\n",
            "119 is not a prime number.\n",
            "120 is not a prime number.\n",
            "121 is not a prime number.\n",
            "122 is not a prime number.\n",
            "123 is not a prime number.\n",
            "124 is not a prime number.\n",
            "125 is not a prime number.\n",
            "126 is not a prime number.\n",
            "127 is a prime number.\n",
            "128 is not a prime number.\n",
            "129 is not a prime number.\n",
            "130 is not a prime number.\n",
            "131 is a prime number.\n",
            "132 is not a prime number.\n",
            "133 is not a prime number.\n",
            "134 is not a prime number.\n",
            "135 is not a prime number.\n",
            "136 is not a prime number.\n",
            "137 is a prime number.\n",
            "138 is not a prime number.\n",
            "139 is a prime number.\n",
            "140 is not a prime number.\n",
            "141 is not a prime number.\n",
            "142 is not a prime number.\n",
            "143 is not a prime number.\n",
            "144 is not a prime number.\n",
            "145 is not a prime number.\n",
            "146 is not a prime number.\n",
            "147 is not a prime number.\n",
            "148 is not a prime number.\n",
            "149 is a prime number.\n",
            "150 is not a prime number.\n",
            "151 is a prime number.\n",
            "152 is not a prime number.\n",
            "153 is not a prime number.\n",
            "154 is not a prime number.\n",
            "155 is not a prime number.\n",
            "156 is not a prime number.\n",
            "157 is a prime number.\n",
            "158 is not a prime number.\n",
            "159 is not a prime number.\n",
            "160 is not a prime number.\n",
            "161 is not a prime number.\n",
            "162 is not a prime number.\n",
            "163 is a prime number.\n",
            "164 is not a prime number.\n",
            "165 is not a prime number.\n",
            "166 is not a prime number.\n",
            "167 is a prime number.\n",
            "168 is not a prime number.\n",
            "169 is not a prime number.\n",
            "170 is not a prime number.\n",
            "171 is not a prime number.\n",
            "172 is not a prime number.\n",
            "173 is a prime number.\n",
            "174 is not a prime number.\n",
            "175 is not a prime number.\n",
            "176 is not a prime number.\n",
            "177 is not a prime number.\n",
            "178 is not a prime number.\n",
            "179 is a prime number.\n",
            "180 is not a prime number.\n",
            "181 is a prime number.\n",
            "182 is not a prime number.\n",
            "183 is not a prime number.\n",
            "184 is not a prime number.\n",
            "185 is not a prime number.\n",
            "186 is not a prime number.\n",
            "187 is not a prime number.\n",
            "188 is not a prime number.\n",
            "189 is not a prime number.\n",
            "190 is not a prime number.\n",
            "191 is a prime number.\n",
            "192 is not a prime number.\n",
            "193 is a prime number.\n",
            "194 is not a prime number.\n",
            "195 is not a prime number.\n",
            "196 is not a prime number.\n",
            "197 is a prime number.\n",
            "198 is not a prime number.\n",
            "199 is a prime number.\n",
            "200 is not a prime number.\n"
          ]
        }
      ]
    },
    {
      "cell_type": "code",
      "source": [
        "# 5. Create an iterator class in Python that generates the Fibonacci sequence up to a specified number of terms.\n",
        "class FibonacciIterator:\n",
        "    \"\"\"Iterator class to generate Fibonacci sequence up to n terms.\"\"\"\n",
        "    def __init__(self, n):\n",
        "        self.n = n\n",
        "        self.a, self.b = 0, 1\n",
        "        self.count = 0\n"
      ],
      "metadata": {
        "id": "0t3tG6o0LxAf"
      },
      "execution_count": 17,
      "outputs": []
    },
    {
      "cell_type": "code",
      "source": [
        "# 6. Write a generator function in Python that yields the powers of 2 up to a given exponent.\n",
        "def powers_of_two(max_exponent):\n",
        "    \"\"\"Generator function that yields powers of 2 up to 2^max_exponent.\"\"\"\n",
        "    for exponent in range(max_exponent + 1):\n",
        "        yield 2 ** exponent\n",
        "max_exp = 5\n",
        "\n",
        "for power in powers_of_two(max_exp):\n",
        "    print(power)\n"
      ],
      "metadata": {
        "colab": {
          "base_uri": "https://localhost:8080/"
        },
        "id": "O6T4DXcXL2xR",
        "outputId": "2369e04a-d9b6-4ebc-f710-832c21334e1d"
      },
      "execution_count": 13,
      "outputs": [
        {
          "output_type": "stream",
          "name": "stdout",
          "text": [
            "1\n",
            "2\n",
            "4\n",
            "8\n",
            "16\n",
            "32\n"
          ]
        }
      ]
    },
    {
      "cell_type": "code",
      "source": [
        "# 7. Implement a generator function that reads a file line by line and yields each line as a string.\n",
        "def read_file_line_by_line(file_path):\n",
        "    \"\"\"Generator function that reads a file line by line.\"\"\"\n",
        "    with open(file_path, 'r') as file:\n",
        "        for line in file:\n",
        "            yield line.strip()\n",
        "if __name__ == \"__main__\":\n",
        "    file_path = 'example.txt'\n",
        "    for line in read_file_line_by_line(file_path):\n",
        "        print(line)\n"
      ],
      "metadata": {
        "colab": {
          "base_uri": "https://localhost:8080/",
          "height": 315
        },
        "id": "Uy0WIAF2L8e9",
        "outputId": "0fd75a2b-2dc2-4a96-a215-353b54e58ae8"
      },
      "execution_count": 12,
      "outputs": [
        {
          "output_type": "error",
          "ename": "FileNotFoundError",
          "evalue": "[Errno 2] No such file or directory: 'example.txt'",
          "traceback": [
            "\u001b[0;31m---------------------------------------------------------------------------\u001b[0m",
            "\u001b[0;31mFileNotFoundError\u001b[0m                         Traceback (most recent call last)",
            "\u001b[0;32m<ipython-input-12-d3429d07217a>\u001b[0m in \u001b[0;36m<cell line: 0>\u001b[0;34m()\u001b[0m\n\u001b[1;32m      7\u001b[0m \u001b[0;32mif\u001b[0m \u001b[0m__name__\u001b[0m \u001b[0;34m==\u001b[0m \u001b[0;34m\"__main__\"\u001b[0m\u001b[0;34m:\u001b[0m\u001b[0;34m\u001b[0m\u001b[0;34m\u001b[0m\u001b[0m\n\u001b[1;32m      8\u001b[0m     \u001b[0mfile_path\u001b[0m \u001b[0;34m=\u001b[0m \u001b[0;34m'example.txt'\u001b[0m\u001b[0;34m\u001b[0m\u001b[0;34m\u001b[0m\u001b[0m\n\u001b[0;32m----> 9\u001b[0;31m     \u001b[0;32mfor\u001b[0m \u001b[0mline\u001b[0m \u001b[0;32min\u001b[0m \u001b[0mread_file_line_by_line\u001b[0m\u001b[0;34m(\u001b[0m\u001b[0mfile_path\u001b[0m\u001b[0;34m)\u001b[0m\u001b[0;34m:\u001b[0m\u001b[0;34m\u001b[0m\u001b[0;34m\u001b[0m\u001b[0m\n\u001b[0m\u001b[1;32m     10\u001b[0m         \u001b[0mprint\u001b[0m\u001b[0;34m(\u001b[0m\u001b[0mline\u001b[0m\u001b[0;34m)\u001b[0m\u001b[0;34m\u001b[0m\u001b[0;34m\u001b[0m\u001b[0m\n",
            "\u001b[0;32m<ipython-input-12-d3429d07217a>\u001b[0m in \u001b[0;36mread_file_line_by_line\u001b[0;34m(file_path)\u001b[0m\n\u001b[1;32m      2\u001b[0m \u001b[0;32mdef\u001b[0m \u001b[0mread_file_line_by_line\u001b[0m\u001b[0;34m(\u001b[0m\u001b[0mfile_path\u001b[0m\u001b[0;34m)\u001b[0m\u001b[0;34m:\u001b[0m\u001b[0;34m\u001b[0m\u001b[0;34m\u001b[0m\u001b[0m\n\u001b[1;32m      3\u001b[0m     \u001b[0;34m\"\"\"Generator function that reads a file line by line.\"\"\"\u001b[0m\u001b[0;34m\u001b[0m\u001b[0;34m\u001b[0m\u001b[0m\n\u001b[0;32m----> 4\u001b[0;31m     \u001b[0;32mwith\u001b[0m \u001b[0mopen\u001b[0m\u001b[0;34m(\u001b[0m\u001b[0mfile_path\u001b[0m\u001b[0;34m,\u001b[0m \u001b[0;34m'r'\u001b[0m\u001b[0;34m)\u001b[0m \u001b[0;32mas\u001b[0m \u001b[0mfile\u001b[0m\u001b[0;34m:\u001b[0m\u001b[0;34m\u001b[0m\u001b[0;34m\u001b[0m\u001b[0m\n\u001b[0m\u001b[1;32m      5\u001b[0m         \u001b[0;32mfor\u001b[0m \u001b[0mline\u001b[0m \u001b[0;32min\u001b[0m \u001b[0mfile\u001b[0m\u001b[0;34m:\u001b[0m\u001b[0;34m\u001b[0m\u001b[0;34m\u001b[0m\u001b[0m\n\u001b[1;32m      6\u001b[0m             \u001b[0;32myield\u001b[0m \u001b[0mline\u001b[0m\u001b[0;34m.\u001b[0m\u001b[0mstrip\u001b[0m\u001b[0;34m(\u001b[0m\u001b[0;34m)\u001b[0m\u001b[0;34m\u001b[0m\u001b[0;34m\u001b[0m\u001b[0m\n",
            "\u001b[0;31mFileNotFoundError\u001b[0m: [Errno 2] No such file or directory: 'example.txt'"
          ]
        }
      ]
    },
    {
      "cell_type": "code",
      "source": [
        "# 8. Use a lambda function in Python to sort a list of tuples based on the second element of each tuple.\n",
        "\n",
        "data = [(1, 5), (3, 1), (2, 8), (4, 3)]\n",
        "sorted_data = sorted(data, key=lambda x: x[1])\n",
        "print(\"Sorted List:\", sorted_data)\n"
      ],
      "metadata": {
        "colab": {
          "base_uri": "https://localhost:8080/"
        },
        "id": "avg4cwroMAr_",
        "outputId": "219991da-db07-429d-f0f5-0988c8e555c5"
      },
      "execution_count": 6,
      "outputs": [
        {
          "output_type": "stream",
          "name": "stdout",
          "text": [
            "Sorted List: [(3, 1), (4, 3), (1, 5), (2, 8)]\n"
          ]
        }
      ]
    },
    {
      "cell_type": "code",
      "source": [
        "# 9. Write a Python program that uses `map()` to convert a list of temperatures from Celsius to Fahrenheit.\n",
        "\n",
        "def celsius_to_fahrenheit(celsius):\n",
        "    return (celsius * 9/5) + 32\n",
        "\n",
        "\n",
        "celsius_temps = [0, 10, 20, 30, 40, 100]\n",
        "fahrenheit_temps = list(map(celsius_to_fahrenheit, celsius_temps))\n",
        "print(\"Temperatures in Fahrenheit:\", fahrenheit_temps)\n",
        "\n"
      ],
      "metadata": {
        "colab": {
          "base_uri": "https://localhost:8080/"
        },
        "id": "cgUa5tcUMHwE",
        "outputId": "0cdf7328-63f2-42ea-a0ed-d2807ae77ed2"
      },
      "execution_count": 5,
      "outputs": [
        {
          "output_type": "stream",
          "name": "stdout",
          "text": [
            "Temperatures in Fahrenheit: [32.0, 50.0, 68.0, 86.0, 104.0, 212.0]\n"
          ]
        }
      ]
    },
    {
      "cell_type": "code",
      "source": [
        "# 10. Create a Python program that uses `filter()` to remove all the vowels from a given string.\n",
        "def remove_vowels(s):\n",
        "    vowels = \"aeiouAEIOU\"\n",
        "    return \"\".join(filter(lambda char: char not in vowels, s))\n",
        "\n",
        "text = \"Hello, World!\"\n",
        "result = remove_vowels(text)\n",
        "print(\"String without vowels:\", result)\n"
      ],
      "metadata": {
        "id": "DF9YQvSzMOAG"
      },
      "execution_count": null,
      "outputs": []
    },
    {
      "cell_type": "code",
      "source": [
        "# 11. Imagine an accounting routine used in a book shop. It works on a list with sublists, which look like this:\n",
        "# Write a Python program, which returns a list with 2-tuples. Each tuple consists of the order number and the product of the price per item and the quantity. The product should be increased by 10,- € if the value of the order is smaller than 100,00 €.\n",
        "# Write a Python program using lambda and map.\n",
        "\n",
        "# Given data\n",
        "orders = [\n",
        "    (34587, \"Learning Python, Mark Lutz\", 4, 40.95),\n",
        "    (98762, \"Programming Python, Mark Lutz\", 5, 56.80),\n",
        "    (77226, \"Head First Python, Paul Barry\", 3, 32.95),\n",
        "    (88112, \"Einführung in Python3, Bernd Klein\", 3, 24.99)\n",
        "]\n",
        "\n",
        "order_totals = list(map(lambda order: (order[0], order[2] * order[3] if order[2] * order[3] >= 100 else order[2] * order[3] + 10), orders))\n",
        "print(order_totals)\n",
        "\n"
      ],
      "metadata": {
        "colab": {
          "base_uri": "https://localhost:8080/"
        },
        "id": "xQ9tjfpVMUCQ",
        "outputId": "dbaef795-6a96-4483-b1c1-108d43f7c75d"
      },
      "execution_count": 4,
      "outputs": [
        {
          "output_type": "stream",
          "name": "stdout",
          "text": [
            "[(34587, 163.8), (98762, 284.0), (77226, 108.85000000000001), (88112, 84.97)]\n"
          ]
        }
      ]
    }
  ]
}